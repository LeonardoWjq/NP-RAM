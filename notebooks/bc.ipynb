{
 "cells": [
  {
   "cell_type": "code",
   "execution_count": 9,
   "metadata": {},
   "outputs": [],
   "source": [
    "import h5py as h5\n",
    "import numpy as np\n",
    "import torch\n",
    "import torch.nn as nn\n",
    "from torch.utils.data import DataLoader, Dataset\n",
    "\n",
    "from utils.data_utils import make_path, flatten_obs"
   ]
  },
  {
   "cell_type": "code",
   "execution_count": 21,
   "metadata": {},
   "outputs": [],
   "source": [
    "class StackCubeDataset(Dataset):\n",
    "    def __init__(self):\n",
    "        dataset_path = make_path('..', \n",
    "                                 'datasets', \n",
    "                                 'trajectory_state_original.h5')\n",
    "        self.obs = []\n",
    "        self.actions = []\n",
    "\n",
    "        with h5.File(dataset_path, 'r') as data:\n",
    "            for traj in data.values():\n",
    "                obs = flatten_obs(traj['obs'])\n",
    "                obs = obs[:-1, :]\n",
    "                actions = traj['actions'][:]\n",
    "                self.obs.append(obs)\n",
    "                self.actions.append(actions)\n",
    "\n",
    "        self.obs = np.concatenate(self.obs, axis=0)\n",
    "        self.actions = np.concatenate(self.actions, axis=0)\n",
    "\n",
    "        assert len(self.obs) == len(self.actions)\n",
    "\n",
    "    def __getitem__(self, index):\n",
    "        return self.obs[index], self.actions[index]\n",
    "\n",
    "    def __len__(self):\n",
    "        return len(self.obs)"
   ]
  },
  {
   "cell_type": "code",
   "execution_count": 16,
   "metadata": {},
   "outputs": [
    {
     "name": "stdout",
     "output_type": "stream",
     "text": [
      "145716\n"
     ]
    }
   ],
   "source": [
    "class BC(nn.Module):\n",
    "    def __init__(self, obs_dim = 55, act_dim = 8):\n",
    "        super(BC, self).__init__()\n",
    "        self.fc1 = nn.Linear(obs_dim, 256)\n",
    "        self.fc2 = nn.Linear(256, 256)\n",
    "        self.fc3 = nn.Linear(256, act_dim)\n",
    "\n",
    "    def forward(self, x):\n",
    "        x = torch.relu(self.fc1(x))\n",
    "        x = torch.relu(self.fc2(x))\n",
    "        return self.fc3(x)"
   ]
  }
 ],
 "metadata": {
  "kernelspec": {
   "display_name": "venv",
   "language": "python",
   "name": "python3"
  },
  "language_info": {
   "codemirror_mode": {
    "name": "ipython",
    "version": 3
   },
   "file_extension": ".py",
   "mimetype": "text/x-python",
   "name": "python",
   "nbconvert_exporter": "python",
   "pygments_lexer": "ipython3",
   "version": "3.8.0"
  }
 },
 "nbformat": 4,
 "nbformat_minor": 2
}
