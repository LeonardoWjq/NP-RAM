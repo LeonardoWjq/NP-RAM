{
 "cells": [
  {
   "cell_type": "code",
   "execution_count": null,
   "metadata": {},
   "outputs": [],
   "source": [
    "import gymnasium as gym\n",
    "import mani_skill2.envs\n",
    "from mani_skill2.utils.wrappers import RecordEpisode\n",
    "from stable_baselines3 import A2C, DDPG, TD3"
   ]
  },
  {
   "cell_type": "code",
   "execution_count": null,
   "metadata": {},
   "outputs": [],
   "source": [
    "env = gym.make('StackCube-v0',\n",
    "               obs_mode=\"state\",\n",
    "               control_mode=\"pd_joint_delta_pos\",\n",
    "               reward_mode=\"normalized_dense\",\n",
    "               render_mode=\"cameras\",\n",
    "               max_episode_steps=200)\n",
    "model = TD3(\"MlpPolicy\", env, verbose=1)\n",
    "model.learn(total_timesteps=100000)\n"
   ]
  },
  {
   "cell_type": "code",
   "execution_count": null,
   "metadata": {},
   "outputs": [],
   "source": [
    "env = RecordEpisode(\n",
    "    env,\n",
    "    './',\n",
    "    info_on_video=True,\n",
    "    save_trajectory=False\n",
    ")\n",
    "obs, info = env.reset()\n",
    "for i in range(1000):\n",
    "    action, _state = model.predict(obs, deterministic=True)\n",
    "    obs, reward, terminated, truncated, info = env.step(action)\n",
    "\n",
    "env.flush_video(suffix=f'TD3')\n",
    "\n"
   ]
  }
 ],
 "metadata": {
  "kernelspec": {
   "display_name": "venv",
   "language": "python",
   "name": "python3"
  },
  "language_info": {
   "codemirror_mode": {
    "name": "ipython",
    "version": 3
   },
   "file_extension": ".py",
   "mimetype": "text/x-python",
   "name": "python",
   "nbconvert_exporter": "python",
   "pygments_lexer": "ipython3",
   "version": "3.8.0"
  }
 },
 "nbformat": 4,
 "nbformat_minor": 2
}
