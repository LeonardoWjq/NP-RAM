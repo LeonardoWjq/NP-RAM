{
 "cells": [
  {
   "cell_type": "code",
   "execution_count": 10,
   "metadata": {},
   "outputs": [],
   "source": [
    "import json\n",
    "import math\n",
    "import os\n",
    "from pathlib import Path\n",
    "\n",
    "import gymnasium as gym\n",
    "import mani_skill2.envs\n",
    "import numpy as np\n",
    "import torch\n",
    "import torch.nn as nn\n",
    "import torch.optim as optim\n",
    "from mani_skill2.utils.wrappers import RecordEpisode\n",
    "from torch.nn import (Flatten, Linear, TransformerEncoder,\n",
    "                      TransformerEncoderLayer)\n",
    "from torch.nn.functional import relu\n",
    "from torch.utils.data import DataLoader\n",
    "from torch.utils.tensorboard import SummaryWriter\n",
    "from tqdm import tqdm\n",
    "\n",
    "from data.dataset import StackDatasetOriginalSequential\n",
    "from utils.data_utils import flatten_obs, make_path\n",
    "from utils.train_utils import init_deque, update_deque\n",
    "\n",
    "from imitation.algorithms.adversarial.gail import GAIL\n",
    "from imitation.rewards.reward_nets import BasicRewardNet\n",
    "from imitation.util.networks import RunningNorm\n",
    "from stable_baselines3 import PPO\n",
    "from stable_baselines3.ppo import MlpPolicy\n",
    "from stable_baselines3.common.evaluation import evaluate_policy\n",
    "\n",
    "import os\n",
    "import h5py\n",
    "from imitation.data.types import Trajectory\n",
    "\n",
    "\n"
   ]
  },
  {
   "cell_type": "code",
   "execution_count": 11,
   "metadata": {},
   "outputs": [],
   "source": [
    "# prepare Trajectory for imitation package\n",
    "def prep_Trajectory(file_path):\n",
    "    traj_list = []\n",
    "    with h5py.File(file_path,'r') as file:\n",
    "        for traj_key in file.keys():\n",
    "            traj_data = file[traj_key]\n",
    "            obs = flatten_obs(traj_data['obs'])\n",
    "            acts = np.array(traj_data['actions'])\n",
    "            traj = Trajectory(obs, acts, infos=None,terminal=True) \n",
    "            traj_list.append(traj)  \n",
    "            # print(obs.shape) # (127, 55)\n",
    "            # print(acts.shape) #(126,8)\n",
    "            # print(traj_list)\n",
    "    return traj_list\n",
    "dir_path = os.getcwd()\n",
    "\n",
    "data_path = os.path.join(dir_path, '..', 'datasets')\n",
    "file_path = os.path.join(data_path, 'trajectory_state_original.h5') \n",
    "\n",
    "traj_list = prep_Trajectory(file_path)"
   ]
  },
  {
   "cell_type": "code",
   "execution_count": 12,
   "metadata": {},
   "outputs": [
    {
     "name": "stderr",
     "output_type": "stream",
     "text": [
      "[2023-11-16 10:42:41.635] [svulkan2] [warning] A second renderer will share the same internal context with the first one. Arguments passed to constructor will be ignored.\n"
     ]
    }
   ],
   "source": [
    "SEED = 42 \n",
    "\n",
    "env = gym.make('StackCube-v0',\n",
    "               obs_mode=\"state\",\n",
    "               control_mode=\"pd_joint_delta_pos\",\n",
    "               reward_mode=\"normalized_dense\",\n",
    "               render_mode=\"cameras\",\n",
    "               max_episode_steps=250)\n"
   ]
  },
  {
   "cell_type": "code",
   "execution_count": 14,
   "metadata": {},
   "outputs": [
    {
     "name": "stderr",
     "output_type": "stream",
     "text": [
      "/u/baz7dy/cs6501/NP-RAM/venv/lib/python3.8/site-packages/gymnasium/core.py:311: UserWarning: \u001b[33mWARN: env.num_envs to get variables from other wrappers is deprecated and will be removed in v1.0, to get this variable you can do `env.unwrapped.num_envs` for environment variables or `env.get_wrapper_attr('num_envs')` that will search the reminding wrappers.\u001b[0m\n",
      "  logger.warn(\n"
     ]
    },
    {
     "ename": "AttributeError",
     "evalue": "'StackCubeEnv' object has no attribute 'num_envs'",
     "output_type": "error",
     "traceback": [
      "\u001b[0;31m---------------------------------------------------------------------------\u001b[0m",
      "\u001b[0;31mAttributeError\u001b[0m                            Traceback (most recent call last)",
      "\u001b[1;32m/u/baz7dy/cs6501/NP-RAM/notebooks/GAIL.ipynb Cell 4\u001b[0m line \u001b[0;36m1\n\u001b[1;32m      <a href='vscode-notebook-cell://ssh-remote%2Bgpusrv11.cs.virginia.edu/u/baz7dy/cs6501/NP-RAM/notebooks/GAIL.ipynb#W3sdnNjb2RlLXJlbW90ZQ%3D%3D?line=0'>1</a>\u001b[0m learner \u001b[39m=\u001b[39m PPO(\n\u001b[1;32m      <a href='vscode-notebook-cell://ssh-remote%2Bgpusrv11.cs.virginia.edu/u/baz7dy/cs6501/NP-RAM/notebooks/GAIL.ipynb#W3sdnNjb2RlLXJlbW90ZQ%3D%3D?line=1'>2</a>\u001b[0m     env\u001b[39m=\u001b[39menv,\n\u001b[1;32m      <a href='vscode-notebook-cell://ssh-remote%2Bgpusrv11.cs.virginia.edu/u/baz7dy/cs6501/NP-RAM/notebooks/GAIL.ipynb#W3sdnNjb2RlLXJlbW90ZQ%3D%3D?line=2'>3</a>\u001b[0m     policy\u001b[39m=\u001b[39mMlpPolicy,\n\u001b[0;32m   (...)\u001b[0m\n\u001b[1;32m      <a href='vscode-notebook-cell://ssh-remote%2Bgpusrv11.cs.virginia.edu/u/baz7dy/cs6501/NP-RAM/notebooks/GAIL.ipynb#W3sdnNjb2RlLXJlbW90ZQ%3D%3D?line=8'>9</a>\u001b[0m     seed\u001b[39m=\u001b[39mSEED,\n\u001b[1;32m     <a href='vscode-notebook-cell://ssh-remote%2Bgpusrv11.cs.virginia.edu/u/baz7dy/cs6501/NP-RAM/notebooks/GAIL.ipynb#W3sdnNjb2RlLXJlbW90ZQ%3D%3D?line=9'>10</a>\u001b[0m )\n\u001b[1;32m     <a href='vscode-notebook-cell://ssh-remote%2Bgpusrv11.cs.virginia.edu/u/baz7dy/cs6501/NP-RAM/notebooks/GAIL.ipynb#W3sdnNjb2RlLXJlbW90ZQ%3D%3D?line=10'>11</a>\u001b[0m reward_net \u001b[39m=\u001b[39m BasicRewardNet(\n\u001b[1;32m     <a href='vscode-notebook-cell://ssh-remote%2Bgpusrv11.cs.virginia.edu/u/baz7dy/cs6501/NP-RAM/notebooks/GAIL.ipynb#W3sdnNjb2RlLXJlbW90ZQ%3D%3D?line=11'>12</a>\u001b[0m     observation_space\u001b[39m=\u001b[39menv\u001b[39m.\u001b[39mobservation_space,\n\u001b[1;32m     <a href='vscode-notebook-cell://ssh-remote%2Bgpusrv11.cs.virginia.edu/u/baz7dy/cs6501/NP-RAM/notebooks/GAIL.ipynb#W3sdnNjb2RlLXJlbW90ZQ%3D%3D?line=12'>13</a>\u001b[0m     action_space\u001b[39m=\u001b[39menv\u001b[39m.\u001b[39maction_space,\n\u001b[1;32m     <a href='vscode-notebook-cell://ssh-remote%2Bgpusrv11.cs.virginia.edu/u/baz7dy/cs6501/NP-RAM/notebooks/GAIL.ipynb#W3sdnNjb2RlLXJlbW90ZQ%3D%3D?line=13'>14</a>\u001b[0m     normalize_input_layer\u001b[39m=\u001b[39mRunningNorm,\n\u001b[1;32m     <a href='vscode-notebook-cell://ssh-remote%2Bgpusrv11.cs.virginia.edu/u/baz7dy/cs6501/NP-RAM/notebooks/GAIL.ipynb#W3sdnNjb2RlLXJlbW90ZQ%3D%3D?line=14'>15</a>\u001b[0m )\n\u001b[0;32m---> <a href='vscode-notebook-cell://ssh-remote%2Bgpusrv11.cs.virginia.edu/u/baz7dy/cs6501/NP-RAM/notebooks/GAIL.ipynb#W3sdnNjb2RlLXJlbW90ZQ%3D%3D?line=15'>16</a>\u001b[0m gail_trainer \u001b[39m=\u001b[39m GAIL(\n\u001b[1;32m     <a href='vscode-notebook-cell://ssh-remote%2Bgpusrv11.cs.virginia.edu/u/baz7dy/cs6501/NP-RAM/notebooks/GAIL.ipynb#W3sdnNjb2RlLXJlbW90ZQ%3D%3D?line=16'>17</a>\u001b[0m     demonstrations\u001b[39m=\u001b[39;49mtraj_list,\n\u001b[1;32m     <a href='vscode-notebook-cell://ssh-remote%2Bgpusrv11.cs.virginia.edu/u/baz7dy/cs6501/NP-RAM/notebooks/GAIL.ipynb#W3sdnNjb2RlLXJlbW90ZQ%3D%3D?line=17'>18</a>\u001b[0m     demo_batch_size\u001b[39m=\u001b[39;49m\u001b[39m1024\u001b[39;49m,\n\u001b[1;32m     <a href='vscode-notebook-cell://ssh-remote%2Bgpusrv11.cs.virginia.edu/u/baz7dy/cs6501/NP-RAM/notebooks/GAIL.ipynb#W3sdnNjb2RlLXJlbW90ZQ%3D%3D?line=18'>19</a>\u001b[0m     gen_replay_buffer_capacity\u001b[39m=\u001b[39;49m\u001b[39m512\u001b[39;49m,\n\u001b[1;32m     <a href='vscode-notebook-cell://ssh-remote%2Bgpusrv11.cs.virginia.edu/u/baz7dy/cs6501/NP-RAM/notebooks/GAIL.ipynb#W3sdnNjb2RlLXJlbW90ZQ%3D%3D?line=19'>20</a>\u001b[0m     n_disc_updates_per_round\u001b[39m=\u001b[39;49m\u001b[39m8\u001b[39;49m,\n\u001b[1;32m     <a href='vscode-notebook-cell://ssh-remote%2Bgpusrv11.cs.virginia.edu/u/baz7dy/cs6501/NP-RAM/notebooks/GAIL.ipynb#W3sdnNjb2RlLXJlbW90ZQ%3D%3D?line=20'>21</a>\u001b[0m     venv\u001b[39m=\u001b[39;49menv,\n\u001b[1;32m     <a href='vscode-notebook-cell://ssh-remote%2Bgpusrv11.cs.virginia.edu/u/baz7dy/cs6501/NP-RAM/notebooks/GAIL.ipynb#W3sdnNjb2RlLXJlbW90ZQ%3D%3D?line=21'>22</a>\u001b[0m     gen_algo\u001b[39m=\u001b[39;49mlearner,\n\u001b[1;32m     <a href='vscode-notebook-cell://ssh-remote%2Bgpusrv11.cs.virginia.edu/u/baz7dy/cs6501/NP-RAM/notebooks/GAIL.ipynb#W3sdnNjb2RlLXJlbW90ZQ%3D%3D?line=22'>23</a>\u001b[0m     reward_net\u001b[39m=\u001b[39;49mreward_net,\n\u001b[1;32m     <a href='vscode-notebook-cell://ssh-remote%2Bgpusrv11.cs.virginia.edu/u/baz7dy/cs6501/NP-RAM/notebooks/GAIL.ipynb#W3sdnNjb2RlLXJlbW90ZQ%3D%3D?line=23'>24</a>\u001b[0m )\n\u001b[1;32m     <a href='vscode-notebook-cell://ssh-remote%2Bgpusrv11.cs.virginia.edu/u/baz7dy/cs6501/NP-RAM/notebooks/GAIL.ipynb#W3sdnNjb2RlLXJlbW90ZQ%3D%3D?line=24'>25</a>\u001b[0m env\u001b[39m.\u001b[39mseed(SEED)\n\u001b[1;32m     <a href='vscode-notebook-cell://ssh-remote%2Bgpusrv11.cs.virginia.edu/u/baz7dy/cs6501/NP-RAM/notebooks/GAIL.ipynb#W3sdnNjb2RlLXJlbW90ZQ%3D%3D?line=25'>26</a>\u001b[0m learner_rewards_before_training, _ \u001b[39m=\u001b[39m evaluate_policy(\n\u001b[1;32m     <a href='vscode-notebook-cell://ssh-remote%2Bgpusrv11.cs.virginia.edu/u/baz7dy/cs6501/NP-RAM/notebooks/GAIL.ipynb#W3sdnNjb2RlLXJlbW90ZQ%3D%3D?line=26'>27</a>\u001b[0m     learner, env, \u001b[39m100\u001b[39m, return_episode_rewards\u001b[39m=\u001b[39m\u001b[39mTrue\u001b[39;00m\n\u001b[1;32m     <a href='vscode-notebook-cell://ssh-remote%2Bgpusrv11.cs.virginia.edu/u/baz7dy/cs6501/NP-RAM/notebooks/GAIL.ipynb#W3sdnNjb2RlLXJlbW90ZQ%3D%3D?line=27'>28</a>\u001b[0m )\n",
      "File \u001b[0;32m~/cs6501/NP-RAM/venv/lib/python3.8/site-packages/imitation/algorithms/adversarial/gail.py:126\u001b[0m, in \u001b[0;36mGAIL.__init__\u001b[0;34m(self, demonstrations, demo_batch_size, venv, gen_algo, reward_net, **kwargs)\u001b[0m\n\u001b[1;32m    123\u001b[0m \u001b[39m# Process it to produce output suitable for RL training\u001b[39;00m\n\u001b[1;32m    124\u001b[0m \u001b[39m# Applies a -log(sigmoid(-logits)) to the logits (see class for explanation)\u001b[39;00m\n\u001b[1;32m    125\u001b[0m \u001b[39mself\u001b[39m\u001b[39m.\u001b[39m_processed_reward \u001b[39m=\u001b[39m RewardNetFromDiscriminatorLogit(reward_net)\n\u001b[0;32m--> 126\u001b[0m \u001b[39msuper\u001b[39;49m()\u001b[39m.\u001b[39;49m\u001b[39m__init__\u001b[39;49m(\n\u001b[1;32m    127\u001b[0m     demonstrations\u001b[39m=\u001b[39;49mdemonstrations,\n\u001b[1;32m    128\u001b[0m     demo_batch_size\u001b[39m=\u001b[39;49mdemo_batch_size,\n\u001b[1;32m    129\u001b[0m     venv\u001b[39m=\u001b[39;49mvenv,\n\u001b[1;32m    130\u001b[0m     gen_algo\u001b[39m=\u001b[39;49mgen_algo,\n\u001b[1;32m    131\u001b[0m     reward_net\u001b[39m=\u001b[39;49mreward_net,\n\u001b[1;32m    132\u001b[0m     \u001b[39m*\u001b[39;49m\u001b[39m*\u001b[39;49mkwargs,\n\u001b[1;32m    133\u001b[0m )\n",
      "File \u001b[0;32m~/cs6501/NP-RAM/venv/lib/python3.8/site-packages/imitation/algorithms/adversarial/common.py:229\u001b[0m, in \u001b[0;36mAdversarialTrainer.__init__\u001b[0;34m(self, demonstrations, demo_batch_size, venv, gen_algo, reward_net, demo_minibatch_size, n_disc_updates_per_round, log_dir, disc_opt_cls, disc_opt_kwargs, gen_train_timesteps, gen_replay_buffer_capacity, custom_logger, init_tensorboard, init_tensorboard_graph, debug_use_ground_truth, allow_variable_horizon)\u001b[0m\n\u001b[1;32m    226\u001b[0m     summary_dir\u001b[39m.\u001b[39mmkdir(parents\u001b[39m=\u001b[39m\u001b[39mTrue\u001b[39;00m, exist_ok\u001b[39m=\u001b[39m\u001b[39mTrue\u001b[39;00m)\n\u001b[1;32m    227\u001b[0m     \u001b[39mself\u001b[39m\u001b[39m.\u001b[39m_summary_writer \u001b[39m=\u001b[39m thboard\u001b[39m.\u001b[39mSummaryWriter(\u001b[39mstr\u001b[39m(summary_dir))\n\u001b[0;32m--> 229\u001b[0m \u001b[39mself\u001b[39m\u001b[39m.\u001b[39mvenv_buffering \u001b[39m=\u001b[39m wrappers\u001b[39m.\u001b[39;49mBufferingWrapper(\u001b[39mself\u001b[39;49m\u001b[39m.\u001b[39;49mvenv)\n\u001b[1;32m    231\u001b[0m \u001b[39mif\u001b[39;00m debug_use_ground_truth:\n\u001b[1;32m    232\u001b[0m     \u001b[39m# Would use an identity reward fn here, but RewardFns can't see rewards.\u001b[39;00m\n\u001b[1;32m    233\u001b[0m     \u001b[39mself\u001b[39m\u001b[39m.\u001b[39mvenv_wrapped \u001b[39m=\u001b[39m \u001b[39mself\u001b[39m\u001b[39m.\u001b[39mvenv_buffering\n",
      "File \u001b[0;32m~/cs6501/NP-RAM/venv/lib/python3.8/site-packages/imitation/data/wrappers.py:35\u001b[0m, in \u001b[0;36mBufferingWrapper.__init__\u001b[0;34m(self, venv, error_on_premature_reset)\u001b[0m\n\u001b[1;32m     27\u001b[0m \u001b[39mdef\u001b[39;00m \u001b[39m__init__\u001b[39m(\u001b[39mself\u001b[39m, venv: VecEnv, error_on_premature_reset: \u001b[39mbool\u001b[39m \u001b[39m=\u001b[39m \u001b[39mTrue\u001b[39;00m):\n\u001b[1;32m     28\u001b[0m \u001b[39m    \u001b[39m\u001b[39m\"\"\"Builds BufferingWrapper.\u001b[39;00m\n\u001b[1;32m     29\u001b[0m \n\u001b[1;32m     30\u001b[0m \u001b[39m    Args:\u001b[39;00m\n\u001b[0;32m   (...)\u001b[0m\n\u001b[1;32m     33\u001b[0m \u001b[39m            and there are saved samples that haven't yet been accessed.\u001b[39;00m\n\u001b[1;32m     34\u001b[0m \u001b[39m    \"\"\"\u001b[39;00m\n\u001b[0;32m---> 35\u001b[0m     \u001b[39msuper\u001b[39;49m()\u001b[39m.\u001b[39;49m\u001b[39m__init__\u001b[39;49m(venv)\n\u001b[1;32m     36\u001b[0m     \u001b[39mself\u001b[39m\u001b[39m.\u001b[39merror_on_premature_reset \u001b[39m=\u001b[39m error_on_premature_reset\n\u001b[1;32m     37\u001b[0m     \u001b[39mself\u001b[39m\u001b[39m.\u001b[39m_trajectories \u001b[39m=\u001b[39m []\n",
      "File \u001b[0;32m~/cs6501/NP-RAM/venv/lib/python3.8/site-packages/stable_baselines3/common/vec_env/base_vec_env.py:337\u001b[0m, in \u001b[0;36mVecEnvWrapper.__init__\u001b[0;34m(self, venv, observation_space, action_space)\u001b[0m\n\u001b[1;32m    328\u001b[0m \u001b[39mdef\u001b[39;00m \u001b[39m__init__\u001b[39m(\n\u001b[1;32m    329\u001b[0m     \u001b[39mself\u001b[39m,\n\u001b[1;32m    330\u001b[0m     venv: VecEnv,\n\u001b[1;32m    331\u001b[0m     observation_space: Optional[spaces\u001b[39m.\u001b[39mSpace] \u001b[39m=\u001b[39m \u001b[39mNone\u001b[39;00m,\n\u001b[1;32m    332\u001b[0m     action_space: Optional[spaces\u001b[39m.\u001b[39mSpace] \u001b[39m=\u001b[39m \u001b[39mNone\u001b[39;00m,\n\u001b[1;32m    333\u001b[0m ):\n\u001b[1;32m    334\u001b[0m     \u001b[39mself\u001b[39m\u001b[39m.\u001b[39mvenv \u001b[39m=\u001b[39m venv\n\u001b[1;32m    336\u001b[0m     \u001b[39msuper\u001b[39m()\u001b[39m.\u001b[39m\u001b[39m__init__\u001b[39m(\n\u001b[0;32m--> 337\u001b[0m         num_envs\u001b[39m=\u001b[39mvenv\u001b[39m.\u001b[39;49mnum_envs,\n\u001b[1;32m    338\u001b[0m         observation_space\u001b[39m=\u001b[39mobservation_space \u001b[39mor\u001b[39;00m venv\u001b[39m.\u001b[39mobservation_space,\n\u001b[1;32m    339\u001b[0m         action_space\u001b[39m=\u001b[39maction_space \u001b[39mor\u001b[39;00m venv\u001b[39m.\u001b[39maction_space,\n\u001b[1;32m    340\u001b[0m     )\n\u001b[1;32m    341\u001b[0m     \u001b[39mself\u001b[39m\u001b[39m.\u001b[39mclass_attributes \u001b[39m=\u001b[39m \u001b[39mdict\u001b[39m(inspect\u001b[39m.\u001b[39mgetmembers(\u001b[39mself\u001b[39m\u001b[39m.\u001b[39m\u001b[39m__class__\u001b[39m))\n",
      "File \u001b[0;32m~/cs6501/NP-RAM/venv/lib/python3.8/site-packages/gymnasium/core.py:315\u001b[0m, in \u001b[0;36mWrapper.__getattr__\u001b[0;34m(self, name)\u001b[0m\n\u001b[1;32m    310\u001b[0m     \u001b[39mraise\u001b[39;00m \u001b[39mAttributeError\u001b[39;00m(\u001b[39mf\u001b[39m\u001b[39m\"\u001b[39m\u001b[39maccessing private attribute \u001b[39m\u001b[39m'\u001b[39m\u001b[39m{\u001b[39;00mname\u001b[39m}\u001b[39;00m\u001b[39m'\u001b[39m\u001b[39m is prohibited\u001b[39m\u001b[39m\"\u001b[39m)\n\u001b[1;32m    311\u001b[0m logger\u001b[39m.\u001b[39mwarn(\n\u001b[1;32m    312\u001b[0m     \u001b[39mf\u001b[39m\u001b[39m\"\u001b[39m\u001b[39menv.\u001b[39m\u001b[39m{\u001b[39;00mname\u001b[39m}\u001b[39;00m\u001b[39m to get variables from other wrappers is deprecated and will be removed in v1.0, \u001b[39m\u001b[39m\"\u001b[39m\n\u001b[1;32m    313\u001b[0m     \u001b[39mf\u001b[39m\u001b[39m\"\u001b[39m\u001b[39mto get this variable you can do `env.unwrapped.\u001b[39m\u001b[39m{\u001b[39;00mname\u001b[39m}\u001b[39;00m\u001b[39m` for environment variables or `env.get_wrapper_attr(\u001b[39m\u001b[39m'\u001b[39m\u001b[39m{\u001b[39;00mname\u001b[39m}\u001b[39;00m\u001b[39m'\u001b[39m\u001b[39m)` that will search the reminding wrappers.\u001b[39m\u001b[39m\"\u001b[39m\n\u001b[1;32m    314\u001b[0m )\n\u001b[0;32m--> 315\u001b[0m \u001b[39mreturn\u001b[39;00m \u001b[39mgetattr\u001b[39;49m(\u001b[39mself\u001b[39;49m\u001b[39m.\u001b[39;49menv, name)\n",
      "File \u001b[0;32m~/cs6501/NP-RAM/venv/lib/python3.8/site-packages/gymnasium/core.py:315\u001b[0m, in \u001b[0;36mWrapper.__getattr__\u001b[0;34m(self, name)\u001b[0m\n\u001b[1;32m    310\u001b[0m     \u001b[39mraise\u001b[39;00m \u001b[39mAttributeError\u001b[39;00m(\u001b[39mf\u001b[39m\u001b[39m\"\u001b[39m\u001b[39maccessing private attribute \u001b[39m\u001b[39m'\u001b[39m\u001b[39m{\u001b[39;00mname\u001b[39m}\u001b[39;00m\u001b[39m'\u001b[39m\u001b[39m is prohibited\u001b[39m\u001b[39m\"\u001b[39m)\n\u001b[1;32m    311\u001b[0m logger\u001b[39m.\u001b[39mwarn(\n\u001b[1;32m    312\u001b[0m     \u001b[39mf\u001b[39m\u001b[39m\"\u001b[39m\u001b[39menv.\u001b[39m\u001b[39m{\u001b[39;00mname\u001b[39m}\u001b[39;00m\u001b[39m to get variables from other wrappers is deprecated and will be removed in v1.0, \u001b[39m\u001b[39m\"\u001b[39m\n\u001b[1;32m    313\u001b[0m     \u001b[39mf\u001b[39m\u001b[39m\"\u001b[39m\u001b[39mto get this variable you can do `env.unwrapped.\u001b[39m\u001b[39m{\u001b[39;00mname\u001b[39m}\u001b[39;00m\u001b[39m` for environment variables or `env.get_wrapper_attr(\u001b[39m\u001b[39m'\u001b[39m\u001b[39m{\u001b[39;00mname\u001b[39m}\u001b[39;00m\u001b[39m'\u001b[39m\u001b[39m)` that will search the reminding wrappers.\u001b[39m\u001b[39m\"\u001b[39m\n\u001b[1;32m    314\u001b[0m )\n\u001b[0;32m--> 315\u001b[0m \u001b[39mreturn\u001b[39;00m \u001b[39mgetattr\u001b[39;49m(\u001b[39mself\u001b[39;49m\u001b[39m.\u001b[39;49menv, name)\n",
      "\u001b[0;31mAttributeError\u001b[0m: 'StackCubeEnv' object has no attribute 'num_envs'"
     ]
    }
   ],
   "source": [
    "\n",
    "learner = PPO(\n",
    "    env=env,\n",
    "    policy=MlpPolicy,\n",
    "    batch_size=64,\n",
    "    ent_coef=0.0,\n",
    "    learning_rate=0.0004,\n",
    "    gamma=0.95,\n",
    "    n_epochs=5,\n",
    "    seed=SEED,\n",
    ")\n",
    "reward_net = BasicRewardNet(\n",
    "    observation_space=env.observation_space,\n",
    "    action_space=env.action_space,\n",
    "    normalize_input_layer=RunningNorm,\n",
    ")\n",
    "gail_trainer = GAIL(\n",
    "    demonstrations=traj_list,\n",
    "    demo_batch_size=1024,\n",
    "    gen_replay_buffer_capacity=512,\n",
    "    n_disc_updates_per_round=8,\n",
    "    venv=env,\n",
    "    gen_algo=learner,\n",
    "    reward_net=reward_net,\n",
    ")\n",
    "env.seed(SEED)\n",
    "learner_rewards_before_training, _ = evaluate_policy(\n",
    "    learner, env, 100, return_episode_rewards=True\n",
    ")\n",
    "\n",
    "# train the learner and evaluate again\n",
    "gail_trainer.train(800_000)\n",
    "env.seed(SEED)\n",
    "learner_rewards_after_training, _ = evaluate_policy(\n",
    "    learner, env, 100, return_episode_rewards=True\n",
    ")\n",
    "\n"
   ]
  }
 ],
 "metadata": {
  "kernelspec": {
   "display_name": "venv",
   "language": "python",
   "name": "python3"
  },
  "language_info": {
   "codemirror_mode": {
    "name": "ipython",
    "version": 3
   },
   "file_extension": ".py",
   "mimetype": "text/x-python",
   "name": "python",
   "nbconvert_exporter": "python",
   "pygments_lexer": "ipython3",
   "version": "3.8.0"
  },
  "orig_nbformat": 4
 },
 "nbformat": 4,
 "nbformat_minor": 2
}
